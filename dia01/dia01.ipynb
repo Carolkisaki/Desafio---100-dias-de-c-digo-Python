{
 "cells": [
  {
   "cell_type": "code",
   "execution_count": 1,
   "id": "de45fede-2bd0-4c7b-987c-0074b17b7359",
   "metadata": {},
   "outputs": [
    {
     "name": "stdout",
     "output_type": "stream",
     "text": [
      "30\n"
     ]
    }
   ],
   "source": [
    "idade = 30\n",
    "print(idade)"
   ]
  },
  {
   "cell_type": "code",
   "execution_count": 2,
   "id": "49f5e300-f42a-49e8-bb08-5e13f2075d27",
   "metadata": {},
   "outputs": [
    {
     "name": "stdout",
     "output_type": "stream",
     "text": [
      "Bob\n"
     ]
    }
   ],
   "source": [
    "cliente1, cliente2, cliente3 = \"Bob\", \"Maria\", \"Ana\"\n",
    "print(cliente1)"
   ]
  },
  {
   "cell_type": "code",
   "execution_count": 3,
   "id": "f8e7c6b0-86f7-4486-b857-ea39d1fda22f",
   "metadata": {},
   "outputs": [
    {
     "name": "stdout",
     "output_type": "stream",
     "text": [
      "Carolina Kisaki\n"
     ]
    }
   ],
   "source": [
    "nome = \"Carolina\"\n",
    "sobrenome = \"Kisaki\"\n",
    "Nome_completo = nome + \" \" + sobrenome\n",
    "print(Nome_completo)"
   ]
  },
  {
   "cell_type": "code",
   "execution_count": 4,
   "id": "b18fd57d-d1f9-46cb-8ce4-97e4aa9fe0e4",
   "metadata": {},
   "outputs": [
    {
     "name": "stdout",
     "output_type": "stream",
     "text": [
      "8\n"
     ]
    }
   ],
   "source": [
    "largura = 2\n",
    "altura = 4\n",
    "area = largura * altura\n",
    "print(area)"
   ]
  },
  {
   "cell_type": "code",
   "execution_count": null,
   "id": "50ae86e3-6c41-46df-a584-c6373f9d9f71",
   "metadata": {},
   "outputs": [],
   "source": []
  }
 ],
 "metadata": {
  "kernelspec": {
   "display_name": "Python 3 (ipykernel)",
   "language": "python",
   "name": "python3"
  },
  "language_info": {
   "codemirror_mode": {
    "name": "ipython",
    "version": 3
   },
   "file_extension": ".py",
   "mimetype": "text/x-python",
   "name": "python",
   "nbconvert_exporter": "python",
   "pygments_lexer": "ipython3",
   "version": "3.12.7"
  }
 },
 "nbformat": 4,
 "nbformat_minor": 5
}
