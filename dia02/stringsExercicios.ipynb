{
 "cells": [
  {
   "cell_type": "markdown",
   "id": "9835e48f-441d-4486-a3b2-7e6516235ca3",
   "metadata": {},
   "source": [
    "### As strings podem ser entre aspas simples e aspas duplas"
   ]
  },
  {
   "cell_type": "code",
   "execution_count": 1,
   "id": "5a5c5044-613d-4e36-92f6-a574689f98c6",
   "metadata": {},
   "outputs": [
    {
     "name": "stdout",
     "output_type": "stream",
     "text": [
      "Hello World\n",
      "Hello World\n"
     ]
    }
   ],
   "source": [
    "print(\"Hello World\")\n",
    "print('Hello World')"
   ]
  },
  {
   "cell_type": "markdown",
   "id": "6087611d-d4b1-41f6-8ebd-cb42ce290731",
   "metadata": {},
   "source": [
    "### A indexação em Python sempre começa por zero"
   ]
  },
  {
   "cell_type": "code",
   "execution_count": 2,
   "id": "1874ef60-d7e7-4ead-81fc-f6c8e9e7cc44",
   "metadata": {},
   "outputs": [
    {
     "name": "stdout",
     "output_type": "stream",
     "text": [
      "Data Science\n"
     ]
    }
   ],
   "source": [
    "s = 'Data Science'\n",
    "print(s)"
   ]
  },
  {
   "cell_type": "code",
   "execution_count": 3,
   "id": "d44878db-1fd1-4af4-b743-48f26d09b90c",
   "metadata": {},
   "outputs": [
    {
     "name": "stdout",
     "output_type": "stream",
     "text": [
      "D\n"
     ]
    }
   ],
   "source": [
    "print(s[0])\n"
   ]
  },
  {
   "cell_type": "code",
   "execution_count": 4,
   "id": "ce81ce2a-71ed-4520-a2c7-ac6ac2c68f86",
   "metadata": {},
   "outputs": [
    {
     "name": "stdout",
     "output_type": "stream",
     "text": [
      "a\n"
     ]
    }
   ],
   "source": [
    "print(s[1])"
   ]
  },
  {
   "cell_type": "markdown",
   "id": "4d7ad732-5ed7-4443-9b91-32acfb68bf9d",
   "metadata": {},
   "source": [
    "### Podemos usar o operador : para executar um slicing"
   ]
  },
  {
   "cell_type": "code",
   "execution_count": 5,
   "id": "3ffc56d8-a566-498a-b8a0-ad531f24f7a8",
   "metadata": {},
   "outputs": [
    {
     "name": "stdout",
     "output_type": "stream",
     "text": [
      "ata Science\n"
     ]
    }
   ],
   "source": [
    "print(s[1:])"
   ]
  },
  {
   "cell_type": "code",
   "execution_count": 6,
   "id": "1ed27fba-98fe-489d-9ac3-ff787cc331cc",
   "metadata": {},
   "outputs": [
    {
     "name": "stdout",
     "output_type": "stream",
     "text": [
      "Dat\n"
     ]
    }
   ],
   "source": [
    "print(s[:3])"
   ]
  },
  {
   "cell_type": "markdown",
   "id": "80e9574b-ec84-4d2b-b9fd-efc26cc28f8c",
   "metadata": {},
   "source": [
    "### Concatenando Strings"
   ]
  },
  {
   "cell_type": "code",
   "execution_count": 8,
   "id": "875425f3-92b5-448c-a1fa-065a96440a42",
   "metadata": {},
   "outputs": [
    {
     "name": "stdout",
     "output_type": "stream",
     "text": [
      "Data ScienceAcademyAcademy\n"
     ]
    }
   ],
   "source": [
    "s = (s + 'Academy')\n",
    "print(s)"
   ]
  },
  {
   "cell_type": "code",
   "execution_count": 9,
   "id": "c6602834-40fd-42f5-a7cf-06206504465b",
   "metadata": {},
   "outputs": [
    {
     "name": "stdout",
     "output_type": "stream",
     "text": [
      "kkkkk\n"
     ]
    }
   ],
   "source": [
    "letra = 'k'\n",
    "print(letra*5)"
   ]
  },
  {
   "cell_type": "markdown",
   "id": "4ece73ee-6521-4e50-8c18-6d7f41f515c6",
   "metadata": {},
   "source": [
    "### Também é possível aplicar Funções Built-in nas strings"
   ]
  },
  {
   "cell_type": "code",
   "execution_count": 10,
   "id": "ec1e22c3-1614-47e4-82ab-5f210d89da40",
   "metadata": {},
   "outputs": [
    {
     "name": "stdout",
     "output_type": "stream",
     "text": [
      "DATA SCIENCEACADEMYACADEMY\n"
     ]
    }
   ],
   "source": [
    "print(s.upper())"
   ]
  },
  {
   "cell_type": "code",
   "execution_count": 11,
   "id": "0a52903f-0e2f-4923-ab1c-347be184abd2",
   "metadata": {},
   "outputs": [
    {
     "name": "stdout",
     "output_type": "stream",
     "text": [
      "data scienceacademyacademy\n"
     ]
    }
   ],
   "source": [
    "print(s.lower())"
   ]
  },
  {
   "cell_type": "code",
   "execution_count": 12,
   "id": "a8973479-4419-466e-bf9a-206faab040ca",
   "metadata": {},
   "outputs": [
    {
     "name": "stdout",
     "output_type": "stream",
     "text": [
      "['Data', 'ScienceAcademyAcademy']\n"
     ]
    }
   ],
   "source": [
    "print(s.split())"
   ]
  },
  {
   "cell_type": "code",
   "execution_count": 13,
   "id": "2d50bfa3-871b-433d-9587-ca0fc6aae712",
   "metadata": {},
   "outputs": [
    {
     "name": "stdout",
     "output_type": "stream",
     "text": [
      "4\n"
     ]
    }
   ],
   "source": [
    "print(s.count('a'))"
   ]
  },
  {
   "cell_type": "code",
   "execution_count": 14,
   "id": "d40d3932-7d1f-4fb2-b7cd-6afebd97ebd3",
   "metadata": {},
   "outputs": [
    {
     "name": "stdout",
     "output_type": "stream",
     "text": [
      "Data scienceacademyacademy\n"
     ]
    }
   ],
   "source": [
    "print(s.capitalize())"
   ]
  },
  {
   "cell_type": "code",
   "execution_count": null,
   "id": "f65f4369-3d64-429d-989b-76052272ba6e",
   "metadata": {},
   "outputs": [],
   "source": []
  }
 ],
 "metadata": {
  "kernelspec": {
   "display_name": "Python 3 (ipykernel)",
   "language": "python",
   "name": "python3"
  },
  "language_info": {
   "codemirror_mode": {
    "name": "ipython",
    "version": 3
   },
   "file_extension": ".py",
   "mimetype": "text/x-python",
   "name": "python",
   "nbconvert_exporter": "python",
   "pygments_lexer": "ipython3",
   "version": "3.12.7"
  }
 },
 "nbformat": 4,
 "nbformat_minor": 5
}
