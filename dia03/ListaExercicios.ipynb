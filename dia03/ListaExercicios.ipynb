{
 "cells": [
  {
   "cell_type": "markdown",
   "id": "48d0b683-85c1-40fe-96d8-3d5402aa630d",
   "metadata": {},
   "source": [
    "### Criando uma lista"
   ]
  },
  {
   "cell_type": "code",
   "execution_count": 1,
   "id": "f210d75b-e015-4547-bc2d-093f36f6a8fd",
   "metadata": {},
   "outputs": [
    {
     "name": "stdout",
     "output_type": "stream",
     "text": [
      "['arroz', 'feijão', 'peito de frango', 'alface']\n"
     ]
    }
   ],
   "source": [
    "lista1 = [\"arroz\", \"feijão\", \"peito de frango\", \"alface\"]\n",
    "print(lista1)"
   ]
  },
  {
   "cell_type": "markdown",
   "id": "4b7a959d-0e0b-4a1c-84f4-0ddc28adf6e0",
   "metadata": {},
   "source": [
    "### Atualizando um item da lista"
   ]
  },
  {
   "cell_type": "code",
   "execution_count": 2,
   "id": "b1a82fc5-b873-4591-aec7-36b7d4e27131",
   "metadata": {},
   "outputs": [
    {
     "name": "stdout",
     "output_type": "stream",
     "text": [
      "['arroz', 'feijão', 'bife', 'alface']\n"
     ]
    }
   ],
   "source": [
    "lista1[2] = \"bife\"\n",
    "print(lista1)"
   ]
  },
  {
   "cell_type": "markdown",
   "id": "616c1103-a8b1-4dde-a236-b2c41c81f2ee",
   "metadata": {},
   "source": [
    "### Deletando um item da lista"
   ]
  },
  {
   "cell_type": "code",
   "execution_count": 3,
   "id": "5a094f1f-5d4c-4c66-b9fe-724e4c011c06",
   "metadata": {},
   "outputs": [
    {
     "name": "stdout",
     "output_type": "stream",
     "text": [
      "['arroz', 'bife', 'alface']\n"
     ]
    }
   ],
   "source": [
    "del lista1[1]\n",
    "print(lista1)"
   ]
  },
  {
   "cell_type": "markdown",
   "id": "14e36ad3-0874-4656-a093-520d6c6c24a6",
   "metadata": {},
   "source": [
    "### Criando lista de listas"
   ]
  },
  {
   "cell_type": "code",
   "execution_count": 4,
   "id": "56dacf90-c71b-48e4-969b-abad738578c6",
   "metadata": {},
   "outputs": [
    {
     "name": "stdout",
     "output_type": "stream",
     "text": [
      "[[1, 2, 3], [10, 20, 30], [1.5, 3, 4.5]]\n"
     ]
    }
   ],
   "source": [
    "listas = [[1, 2, 3], [10, 20, 30], [1.5, 3, 4.5]]\n",
    "print(listas)"
   ]
  },
  {
   "cell_type": "markdown",
   "id": "7901469a-a2c9-41d5-b2f0-eb90cf877431",
   "metadata": {},
   "source": [
    "### Atribuindo items da lista a uma variável"
   ]
  },
  {
   "cell_type": "code",
   "execution_count": 5,
   "id": "3b91c54f-eb87-460c-be14-2b9a542f87de",
   "metadata": {},
   "outputs": [
    {
     "name": "stdout",
     "output_type": "stream",
     "text": [
      "[1, 2, 3]\n"
     ]
    }
   ],
   "source": [
    "a = listas[0]\n",
    "print(a)"
   ]
  },
  {
   "cell_type": "code",
   "execution_count": 6,
   "id": "7536bc9c-76da-482c-8bc5-f52c82347d72",
   "metadata": {},
   "outputs": [
    {
     "name": "stdout",
     "output_type": "stream",
     "text": [
      "3\n"
     ]
    }
   ],
   "source": [
    "b = a[2]\n",
    "print(b)"
   ]
  },
  {
   "cell_type": "markdown",
   "id": "4e2b53d4-3df0-436d-a473-775cc4ded0b8",
   "metadata": {},
   "source": [
    "### Operações com listas"
   ]
  },
  {
   "cell_type": "code",
   "execution_count": 7,
   "id": "38fdcc9e-02d2-49b2-8f06-6ff4eb3d181d",
   "metadata": {},
   "outputs": [
    {
     "name": "stdout",
     "output_type": "stream",
     "text": [
      "1\n"
     ]
    }
   ],
   "source": [
    "x = listas[0][0]\n",
    "print(x)"
   ]
  },
  {
   "cell_type": "code",
   "execution_count": 8,
   "id": "9162f0ec-e6f8-429a-9bd6-d70a2152820f",
   "metadata": {},
   "outputs": [
    {
     "name": "stdout",
     "output_type": "stream",
     "text": [
      "11.5\n"
     ]
    }
   ],
   "source": [
    "c = listas[2][0] + 10\n",
    "print(c)"
   ]
  },
  {
   "cell_type": "code",
   "execution_count": 9,
   "id": "1dcaee50-9d79-476f-a587-1e705e70cd3d",
   "metadata": {},
   "outputs": [
    {
     "name": "stdout",
     "output_type": "stream",
     "text": [
      "60\n"
     ]
    }
   ],
   "source": [
    "z = 20\n",
    "w = z * listas[0][2]\n",
    "print(w)"
   ]
  },
  {
   "cell_type": "markdown",
   "id": "20230059-3779-4970-8d62-f78d4295bdc3",
   "metadata": {},
   "source": [
    "### Concatenando listas"
   ]
  },
  {
   "cell_type": "code",
   "execution_count": 10,
   "id": "f1741691-d98a-4463-81fc-6affbe8b0ed0",
   "metadata": {},
   "outputs": [
    {
     "name": "stdout",
     "output_type": "stream",
     "text": [
      "[34, 30, 26, 10, 20, 30]\n"
     ]
    }
   ],
   "source": [
    "lista_1 = [34, 30, 26]\n",
    "lista_2 = [10, 20, 30]\n",
    "total = lista_1 + lista_2\n",
    "print(total)"
   ]
  },
  {
   "cell_type": "markdown",
   "id": "acbb06fa-20cc-43ad-bad6-8772d82e766b",
   "metadata": {},
   "source": [
    "### Operador IN"
   ]
  },
  {
   "cell_type": "code",
   "execution_count": 11,
   "id": "f6aa1d77-b5f9-4522-8522-a947979ef7ae",
   "metadata": {},
   "outputs": [
    {
     "name": "stdout",
     "output_type": "stream",
     "text": [
      "False\n"
     ]
    }
   ],
   "source": [
    "print(25 in lista_1)"
   ]
  },
  {
   "cell_type": "code",
   "execution_count": 12,
   "id": "5ce038e6-6c56-4df6-8b2d-aa95967c93ce",
   "metadata": {},
   "outputs": [
    {
     "name": "stdout",
     "output_type": "stream",
     "text": [
      "True\n"
     ]
    }
   ],
   "source": [
    "print(30 in lista_2)"
   ]
  },
  {
   "cell_type": "markdown",
   "id": "929d5c9e-9c93-4c40-bee8-15991b50c5e1",
   "metadata": {},
   "source": [
    "### Funções Built-in"
   ]
  },
  {
   "cell_type": "code",
   "execution_count": 13,
   "id": "501f7b93-46f0-43f4-afb6-31822ec00127",
   "metadata": {},
   "outputs": [
    {
     "data": {
      "text/plain": [
       "3"
      ]
     },
     "execution_count": 13,
     "metadata": {},
     "output_type": "execute_result"
    }
   ],
   "source": [
    "len(lista_2)"
   ]
  },
  {
   "cell_type": "code",
   "execution_count": 14,
   "id": "a5e288f7-9e16-4e12-b17c-9da3a0457459",
   "metadata": {},
   "outputs": [
    {
     "data": {
      "text/plain": [
       "34"
      ]
     },
     "execution_count": 14,
     "metadata": {},
     "output_type": "execute_result"
    }
   ],
   "source": [
    "max(lista_1)"
   ]
  },
  {
   "cell_type": "code",
   "execution_count": 15,
   "id": "465ef149-322c-442f-83e6-1a3d71562fe6",
   "metadata": {},
   "outputs": [
    {
     "data": {
      "text/plain": [
       "26"
      ]
     },
     "execution_count": 15,
     "metadata": {},
     "output_type": "execute_result"
    }
   ],
   "source": [
    "min(lista_1)"
   ]
  },
  {
   "cell_type": "markdown",
   "id": "323b2a33-dd2c-4574-ae0f-54cedfb6e39b",
   "metadata": {},
   "source": [
    "### Adicionando item a lista"
   ]
  },
  {
   "cell_type": "code",
   "execution_count": 16,
   "id": "575075cb-d2af-4c55-bc76-52060e8f0948",
   "metadata": {},
   "outputs": [
    {
     "name": "stdout",
     "output_type": "stream",
     "text": [
      "['Ana', 'Maria', 'João', 'Paulo', 'Vitória']\n"
     ]
    }
   ],
   "source": [
    "lista_nomes = [\"Ana\", \"Maria\", \"João\", \"Paulo\"]\n",
    "lista_nomes.append(\"Vitória\")\n",
    "print(lista_nomes)"
   ]
  },
  {
   "cell_type": "markdown",
   "id": "b2b376fa-2bfc-4818-ba93-c21f055061c0",
   "metadata": {},
   "source": [
    "### Copiando items de uma lista para outra"
   ]
  },
  {
   "cell_type": "code",
   "execution_count": 18,
   "id": "a40663e5-97b4-4d19-a14b-dfe861c96775",
   "metadata": {},
   "outputs": [
    {
     "name": "stdout",
     "output_type": "stream",
     "text": [
      "[1, 2, 5, 20]\n"
     ]
    }
   ],
   "source": [
    "old_list = [1, 2, 5, 20]\n",
    "new_list = []\n",
    "\n",
    "for item in old_list:\n",
    "  new_list.append(item)\n",
    "print(new_list)"
   ]
  },
  {
   "cell_type": "code",
   "execution_count": 19,
   "id": "dc2aa721-bc1b-4b45-b435-5ce889aed298",
   "metadata": {},
   "outputs": [
    {
     "name": "stdout",
     "output_type": "stream",
     "text": [
      "[1, 2, 5, 20, 100, 605, 220]\n"
     ]
    }
   ],
   "source": [
    "new_list.extend([100, 605, 220])\n",
    "print(new_list)"
   ]
  },
  {
   "cell_type": "code",
   "execution_count": 27,
   "id": "7dc9de58-f693-4b58-bbf4-c5592995d2dc",
   "metadata": {},
   "outputs": [
    {
     "name": "stdout",
     "output_type": "stream",
     "text": [
      "[1, 2, 3, 3, 3, 3, 3, 5, 20, 100, 605, 220]\n"
     ]
    }
   ],
   "source": [
    "new_list.insert(2, 3)\n",
    "print(new_list)"
   ]
  },
  {
   "cell_type": "code",
   "execution_count": 28,
   "id": "c64d9c4b-a1ad-4e80-8eec-5173a60fb6bc",
   "metadata": {},
   "outputs": [
    {
     "data": {
      "text/plain": [
       "7"
      ]
     },
     "execution_count": 28,
     "metadata": {},
     "output_type": "execute_result"
    }
   ],
   "source": [
    "new_list.index(5)"
   ]
  },
  {
   "cell_type": "code",
   "execution_count": 30,
   "id": "2ba5ca13-592a-4731-8ecd-d8122ea6ae5b",
   "metadata": {},
   "outputs": [
    {
     "name": "stdout",
     "output_type": "stream",
     "text": [
      "[1, 2, 3, 3, 3, 5, 20, 100, 605, 220]\n"
     ]
    }
   ],
   "source": [
    "new_list.remove(3)\n",
    "print(new_list)"
   ]
  },
  {
   "cell_type": "code",
   "execution_count": null,
   "id": "96f881db-8d4f-4820-96e7-d9b05a7088d0",
   "metadata": {},
   "outputs": [],
   "source": []
  }
 ],
 "metadata": {
  "kernelspec": {
   "display_name": "Python 3 (ipykernel)",
   "language": "python",
   "name": "python3"
  },
  "language_info": {
   "codemirror_mode": {
    "name": "ipython",
    "version": 3
   },
   "file_extension": ".py",
   "mimetype": "text/x-python",
   "name": "python",
   "nbconvert_exporter": "python",
   "pygments_lexer": "ipython3",
   "version": "3.12.7"
  }
 },
 "nbformat": 4,
 "nbformat_minor": 5
}
