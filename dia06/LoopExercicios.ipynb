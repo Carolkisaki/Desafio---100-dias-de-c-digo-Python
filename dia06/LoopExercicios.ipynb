{
 "cells": [
  {
   "cell_type": "markdown",
   "id": "ac0a2950-cd68-4426-805d-b6b637dae3eb",
   "metadata": {},
   "source": [
    "### Loops são estruturas de controle que repetem um bloco de código até que uma condição específica seja atendida. São fundamentais para processos de automação, processamento de dados e outras tarefas que requerem repetição."
   ]
  },
  {
   "cell_type": "markdown",
   "id": "c2b9ab6d-8ba7-4a6d-a921-d792022d1962",
   "metadata": {},
   "source": [
    "### Trabalhando com o Loop For"
   ]
  },
  {
   "cell_type": "markdown",
   "id": "07b6d9e9-548b-4bd2-9094-21a498403333",
   "metadata": {},
   "source": [
    "#### Imprimindo valores com intervalo"
   ]
  },
  {
   "cell_type": "code",
   "execution_count": 2,
   "id": "e69623de-ceb5-4f14-8b08-d4112307243a",
   "metadata": {},
   "outputs": [
    {
     "name": "stdout",
     "output_type": "stream",
     "text": [
      "10\n",
      "11\n",
      "12\n",
      "13\n",
      "14\n",
      "15\n"
     ]
    }
   ],
   "source": [
    "for valores in range(10, 16):\n",
    "    print(valores)"
   ]
  },
  {
   "cell_type": "markdown",
   "id": "dc59db5d-e04c-451d-adac-bbff023fac18",
   "metadata": {},
   "source": [
    "#### Imprimindo strings"
   ]
  },
  {
   "cell_type": "code",
   "execution_count": 3,
   "id": "825255a4-c48b-4179-9340-0e6816651aca",
   "metadata": {},
   "outputs": [
    {
     "name": "stdout",
     "output_type": "stream",
     "text": [
      "Nome\n",
      "Idade\n",
      "Cidade\n",
      "País\n"
     ]
    }
   ],
   "source": [
    "lista = [\"Nome\", \"Idade\", \"Cidade\", \"País\"]\n",
    "for i in lista:\n",
    "    print(i)"
   ]
  },
  {
   "cell_type": "markdown",
   "id": "acf16d67-ceb7-4b59-ae7a-c1bf6fa8352e",
   "metadata": {},
   "source": [
    "#### Imprimindo números pares de uma lista"
   ]
  },
  {
   "cell_type": "code",
   "execution_count": 4,
   "id": "ac6f404c-e784-4e33-92b8-f454741d1b8f",
   "metadata": {},
   "outputs": [
    {
     "name": "stdout",
     "output_type": "stream",
     "text": [
      "2\n",
      "4\n",
      "6\n",
      "8\n",
      "10\n"
     ]
    }
   ],
   "source": [
    "listaNumeros = [1, 2, 3, 4, 5, 6, 7, 8, 9, 10]\n",
    "for num in listaNumeros:\n",
    "    if num %2 == 0:\n",
    "        print(num)"
   ]
  },
  {
   "cell_type": "markdown",
   "id": "e5a7a24e-b3aa-4b4e-8fd7-c549b173f05f",
   "metadata": {},
   "source": [
    "### Imprimindo números ímpares de uma lista"
   ]
  },
  {
   "cell_type": "code",
   "execution_count": 5,
   "id": "5f44f28e-476f-4d5c-b386-b927ff3e032e",
   "metadata": {},
   "outputs": [
    {
     "name": "stdout",
     "output_type": "stream",
     "text": [
      "1\n",
      "3\n",
      "5\n",
      "7\n",
      "9\n"
     ]
    }
   ],
   "source": [
    "for num in listaNumeros:\n",
    "    if num %2 == 1:\n",
    "        print(num)"
   ]
  },
  {
   "cell_type": "markdown",
   "id": "1f71edb9-6667-4656-9928-33ac19006ca7",
   "metadata": {},
   "source": [
    "### Listando números pares dentro de um intervalo"
   ]
  },
  {
   "cell_type": "code",
   "execution_count": 6,
   "id": "19758520-3dd9-4600-ae42-1b6df9da9d06",
   "metadata": {},
   "outputs": [
    {
     "name": "stdout",
     "output_type": "stream",
     "text": [
      "0\n",
      "2\n",
      "4\n",
      "6\n",
      "8\n",
      "10\n",
      "12\n",
      "14\n",
      "16\n",
      "18\n",
      "20\n"
     ]
    }
   ],
   "source": [
    "for i in range (0, 21, 2):\n",
    "    print(i)"
   ]
  },
  {
   "cell_type": "markdown",
   "id": "5ccac67b-df06-4db2-a97d-6ca5f94bae72",
   "metadata": {},
   "source": [
    "### Loop for Aninhado"
   ]
  },
  {
   "cell_type": "code",
   "execution_count": 7,
   "id": "b4f69661-6f3c-4014-9061-dbba91140550",
   "metadata": {},
   "outputs": [
    {
     "name": "stdout",
     "output_type": "stream",
     "text": [
      "In 0\n",
      "In 0\n",
      "In 0\n",
      "---\n",
      "In 1\n",
      "In 2\n",
      "In 3\n",
      "---\n",
      "In 2\n",
      "In 4\n",
      "In 6\n",
      "---\n",
      "In 3\n",
      "In 6\n",
      "In 9\n",
      "---\n",
      "In 4\n",
      "In 8\n",
      "In 12\n",
      "---\n"
     ]
    }
   ],
   "source": [
    "lista1 = [0, 1, 2, 3, 4]\n",
    "lista2 = [1, 2, 3]\n",
    "\n",
    "for elemento_lista1 in lista1:\n",
    "    for elemento_lista2 in lista2:\n",
    "        print('In', elemento_lista1 * elemento_lista2)\n",
    "    print('---')"
   ]
  },
  {
   "cell_type": "code",
   "execution_count": 8,
   "id": "f944c162-bd53-44a5-bbc7-43441b75034f",
   "metadata": {},
   "outputs": [
    {
     "name": "stdout",
     "output_type": "stream",
     "text": [
      "O número 2 foi encontrado nas duas listas!\n"
     ]
    }
   ],
   "source": [
    "for elemento_lista1 in lista1:\n",
    "    for elemento_lista2 in lista2:\n",
    "        if elemento_lista1 == 2 and elemento_lista2 == 2:\n",
    "            print(\"O número 2 foi encontrado nas duas listas!\")"
   ]
  },
  {
   "cell_type": "markdown",
   "id": "fe489438-a697-43b3-abfd-1f163263da4a",
   "metadata": {},
   "source": [
    "### Loop em lista de listas (matrizes) para encontrar o maior número"
   ]
  },
  {
   "cell_type": "code",
   "execution_count": 9,
   "id": "b6fb2861-94da-4ca6-b5d8-6a48c4e0e6b0",
   "metadata": {},
   "outputs": [
    {
     "name": "stdout",
     "output_type": "stream",
     "text": [
      "O maior numero da lista é:  215\n"
     ]
    }
   ],
   "source": [
    "matriz = [[42, 23, 24], [100, 114, 215], [10.1, 20.5, 50]]\n",
    "maior_numero = 0\n",
    "\n",
    "for linha in matriz:\n",
    "    for num in linha:\n",
    "        if num > maior_numero:\n",
    "            maior_numero = num\n",
    "print(\"O maior numero da lista é: \", maior_numero)"
   ]
  },
  {
   "cell_type": "markdown",
   "id": "bf234c7e-4af5-4885-8f6b-100870932cd4",
   "metadata": {},
   "source": [
    "## Loop While"
   ]
  },
  {
   "cell_type": "markdown",
   "id": "1a1cf8e5-615b-4f81-ab39-4b22b88628c8",
   "metadata": {},
   "source": [
    "### Enquanto uma condição for verdadeira a condição será executada, mas deve-se garantir que em algum momento a condição deixará de ser verdadeira"
   ]
  },
  {
   "cell_type": "code",
   "execution_count": 12,
   "id": "0475b957-2ee5-4e40-80d0-99fec4663656",
   "metadata": {},
   "outputs": [
    {
     "name": "stdout",
     "output_type": "stream",
     "text": [
      "0\n",
      "1\n",
      "2\n",
      "3\n",
      "4\n",
      "5\n",
      "6\n",
      "7\n",
      "8\n",
      "9\n"
     ]
    }
   ],
   "source": [
    "valor = 0\n",
    "while valor < 10:\n",
    "    print(valor)\n",
    "    valor = valor + 1"
   ]
  },
  {
   "cell_type": "markdown",
   "id": "86cec270-1e47-4cbc-b710-c25cfe84832b",
   "metadata": {},
   "source": [
    "### Utilizando a cláusula else para encerrar o loop while"
   ]
  },
  {
   "cell_type": "code",
   "execution_count": 13,
   "id": "14c1e0af-b5bc-4e01-93ff-1c7c507730e2",
   "metadata": {},
   "outputs": [
    {
     "name": "stdout",
     "output_type": "stream",
     "text": [
      "O valor de x é:  0\n",
      "x ainda é menor que 10, somando 1 a x\n",
      "O valor de x é:  1\n",
      "x ainda é menor que 10, somando 1 a x\n",
      "O valor de x é:  2\n",
      "x ainda é menor que 10, somando 1 a x\n",
      "O valor de x é:  3\n",
      "x ainda é menor que 10, somando 1 a x\n",
      "O valor de x é:  4\n",
      "x ainda é menor que 10, somando 1 a x\n",
      "O valor de x é:  5\n",
      "x ainda é menor que 10, somando 1 a x\n",
      "O valor de x é:  6\n",
      "x ainda é menor que 10, somando 1 a x\n",
      "O valor de x é:  7\n",
      "x ainda é menor que 10, somando 1 a x\n",
      "O valor de x é:  8\n",
      "x ainda é menor que 10, somando 1 a x\n",
      "O valor de x é:  9\n",
      "x ainda é menor que 10, somando 1 a x\n",
      "Loop concluído\n",
      "10\n"
     ]
    }
   ],
   "source": [
    "x = 0\n",
    "while x < 10:\n",
    "    print('O valor de x é: ', x)\n",
    "    print('x ainda é menor que 10, somando 1 a x')\n",
    "    x += 1\n",
    "else:\n",
    "    print('Loop concluído')\n",
    "print(x)"
   ]
  },
  {
   "cell_type": "markdown",
   "id": "988a3995-6546-405e-9f6d-24bfcb4f007f",
   "metadata": {},
   "source": [
    "### Pass, Break, Continue"
   ]
  },
  {
   "cell_type": "code",
   "execution_count": 14,
   "id": "54b99d3c-f746-4961-8e83-e4e26319a3ca",
   "metadata": {},
   "outputs": [
    {
     "name": "stdout",
     "output_type": "stream",
     "text": [
      "0\n",
      "1\n",
      "2\n",
      "3\n",
      "4\n"
     ]
    }
   ],
   "source": [
    "valor = 0\n",
    "while valor < 10:\n",
    "    if valor == 5:\n",
    "        break\n",
    "    else:\n",
    "        pass\n",
    "    print(valor)\n",
    "    valor = valor + 1"
   ]
  },
  {
   "cell_type": "markdown",
   "id": "b1e26133-3ff4-470a-bf6b-87344760607c",
   "metadata": {},
   "source": [
    "### For e While juntos"
   ]
  },
  {
   "cell_type": "markdown",
   "id": "14e71b9c-16a7-4c0d-b84f-0336140051fd",
   "metadata": {},
   "source": [
    "### Encontrando números primos"
   ]
  },
  {
   "cell_type": "code",
   "execution_count": 19,
   "id": "9936a34b-3cea-4929-be29-4deab2caea5f",
   "metadata": {},
   "outputs": [
    {
     "name": "stdout",
     "output_type": "stream",
     "text": [
      "[2, 3, 5, 7]\n"
     ]
    }
   ],
   "source": [
    "primos = []\n",
    "for num in range (2, 11):\n",
    "    primo = True\n",
    "    i = 2\n",
    "    while i <= num // 2:\n",
    "        if num % i == 0:\n",
    "            primo = False\n",
    "            break\n",
    "        i += 1\n",
    "    if primo:\n",
    "        primos.append(num)\n",
    "print(primos)"
   ]
  },
  {
   "cell_type": "markdown",
   "id": "de7eac6b-0d56-42a4-ac95-cd3fe86e3b6f",
   "metadata": {},
   "source": [
    "## Função Range"
   ]
  },
  {
   "cell_type": "code",
   "execution_count": 20,
   "id": "e09d0d17-1e49-44be-9faa-54ff38979238",
   "metadata": {},
   "outputs": [
    {
     "name": "stdout",
     "output_type": "stream",
     "text": [
      "1\n",
      "2\n",
      "3\n",
      "4\n",
      "5\n",
      "6\n"
     ]
    }
   ],
   "source": [
    "for i in range (1, 7):\n",
    "    print(i)"
   ]
  },
  {
   "cell_type": "code",
   "execution_count": 22,
   "id": "86a48b73-f7bc-41dd-9703-436af353270c",
   "metadata": {},
   "outputs": [
    {
     "name": "stdout",
     "output_type": "stream",
     "text": [
      "0\n",
      "2\n",
      "4\n",
      "6\n",
      "8\n"
     ]
    }
   ],
   "source": [
    "for i in range (0, 9, 2):\n",
    "    print(i)"
   ]
  },
  {
   "cell_type": "code",
   "execution_count": 23,
   "id": "809f3b44-6514-473a-a64a-21d8c389b0c4",
   "metadata": {},
   "outputs": [
    {
     "name": "stdout",
     "output_type": "stream",
     "text": [
      "0\n",
      "-2\n",
      "-4\n",
      "-6\n",
      "-8\n",
      "-10\n",
      "-12\n",
      "-14\n",
      "-16\n",
      "-18\n"
     ]
    }
   ],
   "source": [
    "for i in range (0, -20, -2):\n",
    "    print(i)"
   ]
  },
  {
   "cell_type": "code",
   "execution_count": null,
   "id": "0cf23bad-aaed-40a0-be2d-2f939e90a803",
   "metadata": {},
   "outputs": [],
   "source": []
  }
 ],
 "metadata": {
  "kernelspec": {
   "display_name": "Python 3 (ipykernel)",
   "language": "python",
   "name": "python3"
  },
  "language_info": {
   "codemirror_mode": {
    "name": "ipython",
    "version": 3
   },
   "file_extension": ".py",
   "mimetype": "text/x-python",
   "name": "python",
   "nbconvert_exporter": "python",
   "pygments_lexer": "ipython3",
   "version": "3.12.7"
  }
 },
 "nbformat": 4,
 "nbformat_minor": 5
}
