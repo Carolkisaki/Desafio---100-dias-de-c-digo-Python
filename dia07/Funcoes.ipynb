{
 "cells": [
  {
   "cell_type": "markdown",
   "id": "a980bb77-1a1d-48d7-9e93-e012d47f8943",
   "metadata": {},
   "source": [
    "### Definindo uma Função"
   ]
  },
  {
   "cell_type": "code",
   "execution_count": 1,
   "id": "19e88973-5b44-4efc-8d47-26a929a34dd4",
   "metadata": {},
   "outputs": [],
   "source": [
    "def primeiraFunc():\n",
    "    print('Hello World')"
   ]
  },
  {
   "cell_type": "code",
   "execution_count": 2,
   "id": "3dfe7bd0-11a8-4117-85e1-4f4a4908ad05",
   "metadata": {},
   "outputs": [
    {
     "name": "stdout",
     "output_type": "stream",
     "text": [
      "Hello World\n"
     ]
    }
   ],
   "source": [
    "primeiraFunc()"
   ]
  },
  {
   "cell_type": "markdown",
   "id": "467059e1-ada1-42f4-a0bb-9b0a837099e9",
   "metadata": {},
   "source": [
    "### Função com parâmetro"
   ]
  },
  {
   "cell_type": "code",
   "execution_count": 7,
   "id": "0dc6842e-7597-43c3-a46c-b5163899247d",
   "metadata": {},
   "outputs": [
    {
     "name": "stdout",
     "output_type": "stream",
     "text": [
      "Hello Carol\n"
     ]
    }
   ],
   "source": [
    "def segundaFunc(nome):\n",
    "    print('Hello %s' %(nome))\n",
    "segundaFunc('Carol')"
   ]
  },
  {
   "cell_type": "markdown",
   "id": "28a5d671-988d-4396-b29b-f41e5931c465",
   "metadata": {},
   "source": [
    "### Função para realizar operações"
   ]
  },
  {
   "cell_type": "code",
   "execution_count": 8,
   "id": "d0baec9a-fc0b-4f33-a400-6f657c75bdbf",
   "metadata": {},
   "outputs": [
    {
     "name": "stdout",
     "output_type": "stream",
     "text": [
      "Primeiro número:5\n",
      "Segundo número:3\n",
      "Soma 8\n",
      "Subtração 2\n",
      "Divisão 1.6666666666666667\n",
      "Multiplicação 15\n"
     ]
    }
   ],
   "source": [
    "def addNum(num1, num2):\n",
    "    print(\"Primeiro número:\" + str(num1))\n",
    "    print(\"Segundo número:\" + str(num2))\n",
    "    print(\"Soma\", num1 + num2)\n",
    "    print(\"Subtração\", num1 - num2)\n",
    "    print(\"Divisão\", num1 / num2)\n",
    "    print(\"Multiplicação\", num1 * num2)\n",
    "\n",
    "addNum(5, 3)"
   ]
  },
  {
   "cell_type": "markdown",
   "id": "99ffac7e-b335-4e7e-a74b-77daf90070e1",
   "metadata": {},
   "source": [
    "### Funções com número variável de argumentos"
   ]
  },
  {
   "cell_type": "code",
   "execution_count": 9,
   "id": "f3d6201e-e6e0-48da-a802-c122af93199f",
   "metadata": {},
   "outputs": [
    {
     "name": "stdout",
     "output_type": "stream",
     "text": [
      "O parâmetro passado foi: 5\n"
     ]
    }
   ],
   "source": [
    "def printVarInfo(arg1, *vartuple):\n",
    "    print(\"O parâmetro passado foi:\", arg1)\n",
    "    for item in vartuple:\n",
    "        print(\"O parâmetro passado foi: \", item)\n",
    "    return\n",
    "\n",
    "printVarInfo(5)"
   ]
  },
  {
   "cell_type": "code",
   "execution_count": 10,
   "id": "473477ee-6a5a-48fd-b20b-00ec647aaf2e",
   "metadata": {},
   "outputs": [
    {
     "name": "stdout",
     "output_type": "stream",
     "text": [
      "O parâmetro passado foi: Caneta\n",
      "O parâmetro passado foi:  Lápis\n",
      "O parâmetro passado foi:  Borracha\n"
     ]
    }
   ],
   "source": [
    "printVarInfo('Caneta', 'Lápis', 'Borracha')"
   ]
  },
  {
   "cell_type": "markdown",
   "id": "0c1f3eb4-9567-4cd0-ad1a-3348895cc039",
   "metadata": {},
   "source": [
    "### Funções Built-in"
   ]
  },
  {
   "cell_type": "code",
   "execution_count": 11,
   "id": "d5ae02ac-3386-48aa-97ca-523e8f0fc3ea",
   "metadata": {},
   "outputs": [
    {
     "data": {
      "text/plain": [
       "200"
      ]
     },
     "execution_count": 11,
     "metadata": {},
     "output_type": "execute_result"
    }
   ],
   "source": [
    "abs(200)"
   ]
  },
  {
   "cell_type": "code",
   "execution_count": 12,
   "id": "97341a50-6f4f-4441-9a75-5f661bdb7673",
   "metadata": {},
   "outputs": [
    {
     "data": {
      "text/plain": [
       "5"
      ]
     },
     "execution_count": 12,
     "metadata": {},
     "output_type": "execute_result"
    }
   ],
   "source": [
    "int(5.9)"
   ]
  },
  {
   "cell_type": "code",
   "execution_count": 13,
   "id": "87679c0b-f1b3-4db1-beeb-8ec0df4e2bab",
   "metadata": {},
   "outputs": [
    {
     "data": {
      "text/plain": [
       "'100'"
      ]
     },
     "execution_count": 13,
     "metadata": {},
     "output_type": "execute_result"
    }
   ],
   "source": [
    "str(100)"
   ]
  },
  {
   "cell_type": "code",
   "execution_count": 14,
   "id": "35cf9db0-1af0-43b2-b277-4ce0b2daee69",
   "metadata": {},
   "outputs": [
    {
     "data": {
      "text/plain": [
       "9.0"
      ]
     },
     "execution_count": 14,
     "metadata": {},
     "output_type": "execute_result"
    }
   ],
   "source": [
    "float(9)"
   ]
  },
  {
   "cell_type": "markdown",
   "id": "98560f5e-251c-4d00-8e92-9937a82bd298",
   "metadata": {},
   "source": [
    "###  Convertendo a entrada do usuário para um número inteiro (int) e ponto flutuante (float)"
   ]
  },
  {
   "cell_type": "code",
   "execution_count": 17,
   "id": "0d832061-c5ab-4683-9751-4d2e9c151495",
   "metadata": {},
   "outputs": [
    {
     "name": "stdin",
     "output_type": "stream",
     "text": [
      "Digite um número:  10\n"
     ]
    },
    {
     "name": "stdout",
     "output_type": "stream",
     "text": [
      "O valor é maior do que 10\n"
     ]
    }
   ],
   "source": [
    "numero = int(input(\"Digite um número: \"))\n",
    "if numero > 10:\n",
    "    print(\"O valor é menor do que 10\")\n",
    "else:\n",
    "    print(\"O valor é maior do que 10\")"
   ]
  },
  {
   "cell_type": "code",
   "execution_count": 20,
   "id": "3d23d1ef-ff53-4b40-a971-d6d66ae1e56b",
   "metadata": {},
   "outputs": [
    {
     "name": "stdin",
     "output_type": "stream",
     "text": [
      "Digite um número:  5.5\n"
     ]
    },
    {
     "name": "stdout",
     "output_type": "stream",
     "text": [
      "O valor é menor do que 10\n"
     ]
    }
   ],
   "source": [
    "numero = float(input(\"Digite um número: \"))\n",
    "if numero < 10:\n",
    "    print(\"O valor é menor do que 10\")\n",
    "else:\n",
    "    print(\"O valor é maior do que 10\")"
   ]
  },
  {
   "cell_type": "code",
   "execution_count": 22,
   "id": "e3110b66-8e73-4f5e-a9ae-3b1af3efbf16",
   "metadata": {},
   "outputs": [
    {
     "data": {
      "text/plain": [
       "100"
      ]
     },
     "execution_count": 22,
     "metadata": {},
     "output_type": "execute_result"
    }
   ],
   "source": [
    "array = [1, 10, 100]\n",
    "max(array)"
   ]
  },
  {
   "cell_type": "code",
   "execution_count": 23,
   "id": "7eacbb6a-00c2-4ed3-b78d-eecd00c739c6",
   "metadata": {},
   "outputs": [
    {
     "data": {
      "text/plain": [
       "1"
      ]
     },
     "execution_count": 23,
     "metadata": {},
     "output_type": "execute_result"
    }
   ],
   "source": [
    "min(array)"
   ]
  },
  {
   "cell_type": "code",
   "execution_count": 24,
   "id": "fe69b0b3-b199-4b4a-b02d-642814f55c71",
   "metadata": {},
   "outputs": [
    {
     "data": {
      "text/plain": [
       "32"
      ]
     },
     "execution_count": 24,
     "metadata": {},
     "output_type": "execute_result"
    }
   ],
   "source": [
    "list = [10, 5, 8, 9]\n",
    "sum(list)"
   ]
  },
  {
   "cell_type": "markdown",
   "id": "d065b60b-519c-4114-b02f-a6143512c540",
   "metadata": {},
   "source": [
    "### Criando Funções usando outras Funções"
   ]
  },
  {
   "cell_type": "markdown",
   "id": "0c523c39-94b4-446d-b807-b2bebfe0e59d",
   "metadata": {},
   "source": [
    "### Importando o pacote math do site https://pypi.org/"
   ]
  },
  {
   "cell_type": "code",
   "execution_count": 27,
   "id": "8f745db7-4300-4011-a4fe-54774fa052b7",
   "metadata": {},
   "outputs": [
    {
     "data": {
      "text/plain": [
       "'Este número não é primo'"
      ]
     },
     "execution_count": 27,
     "metadata": {},
     "output_type": "execute_result"
    }
   ],
   "source": [
    "import math\n",
    "\n",
    "def numPrimo(num):\n",
    "    if (num % 2) == 0 and num > 2:\n",
    "        return \"Este número não é primo\"\n",
    "    for i in range (3, int(math.sqrt(num)) + 1, 2):\n",
    "        if (num % 1) == 0:\n",
    "            return \"Este número não é primom\"\n",
    "    return \"Este número é primo\"\n",
    "\n",
    "numPrimo(550)"
   ]
  },
  {
   "cell_type": "code",
   "execution_count": 28,
   "id": "98bf933a-997f-42e0-928e-706ca2fdc332",
   "metadata": {},
   "outputs": [
    {
     "data": {
      "text/plain": [
       "'Este número é primo'"
      ]
     },
     "execution_count": 28,
     "metadata": {},
     "output_type": "execute_result"
    }
   ],
   "source": [
    "numPrimo(2)"
   ]
  },
  {
   "cell_type": "code",
   "execution_count": null,
   "id": "28298dc0-52f1-4eec-83a2-3ceb799f76d0",
   "metadata": {},
   "outputs": [],
   "source": []
  }
 ],
 "metadata": {
  "kernelspec": {
   "display_name": "Python 3 (ipykernel)",
   "language": "python",
   "name": "python3"
  },
  "language_info": {
   "codemirror_mode": {
    "name": "ipython",
    "version": 3
   },
   "file_extension": ".py",
   "mimetype": "text/x-python",
   "name": "python",
   "nbconvert_exporter": "python",
   "pygments_lexer": "ipython3",
   "version": "3.12.7"
  }
 },
 "nbformat": 4,
 "nbformat_minor": 5
}
