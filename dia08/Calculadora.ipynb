{
 "cells": [
  {
   "cell_type": "code",
   "execution_count": 1,
   "id": "8b548e14-2602-4d47-8309-ccb390b32d57",
   "metadata": {},
   "outputs": [
    {
     "name": "stdout",
     "output_type": "stream",
     "text": [
      "Bem Vindo(a) a Calculadora! Escolha uma das opções abaixo!\n"
     ]
    }
   ],
   "source": [
    "print(\"Bem Vindo(a) a Calculadora! Escolha uma das opções abaixo!\")"
   ]
  },
  {
   "cell_type": "code",
   "execution_count": 2,
   "id": "ca4cd4dc-9739-45a0-9180-361f2a93dd5b",
   "metadata": {},
   "outputs": [
    {
     "name": "stdout",
     "output_type": "stream",
     "text": [
      "Opção 1: Soma\n",
      "Opção 2: Subtração\n",
      "Opção 3: Multiplicação\n",
      "Opção 4: Divisão\n"
     ]
    },
    {
     "name": "stdin",
     "output_type": "stream",
     "text": [
      "Digite o número da opção de sua escolha:  3\n"
     ]
    }
   ],
   "source": [
    "print(\"Opção 1: Soma\")\n",
    "print(\"Opção 2: Subtração\")\n",
    "print(\"Opção 3: Multiplicação\")\n",
    "print(\"Opção 4: Divisão\")\n",
    "\n",
    "operacao = input(\"Digite o número da opção de sua escolha: \")"
   ]
  },
  {
   "cell_type": "code",
   "execution_count": 3,
   "id": "1761b080-bf25-4d2b-93a8-5ce78bda75ee",
   "metadata": {},
   "outputs": [
    {
     "name": "stdin",
     "output_type": "stream",
     "text": [
      "Digite o primeiro número:  8\n",
      "Digite o segundo número:  9\n"
     ]
    }
   ],
   "source": [
    "numero1 = input(\"Digite o primeiro número: \")\n",
    "numero2 = input(\"Digite o segundo número: \")\n",
    "\n",
    "if operacao == '1':\n",
    "    resultado = float(numero1) + int(numero2)\n",
    "elif operacao == '2':\n",
    "    resultado = float(numero1) - int(numero2)\n",
    "elif operacao == '3':\n",
    "    resultado = float(numero1) / int(numero2)\n",
    "elif operacao == '4':\n",
    "    resultado = float(numero1) * int(numero2)\n",
    "else:\n",
    "    print(\"Opção inválida\")"
   ]
  },
  {
   "cell_type": "code",
   "execution_count": 4,
   "id": "a0d1ba42-28ec-43f4-b959-9ffd08d2b3b1",
   "metadata": {},
   "outputs": [
    {
     "name": "stdout",
     "output_type": "stream",
     "text": [
      "O resultado da operação é: 0.8888888888888888\n"
     ]
    }
   ],
   "source": [
    "print(\"O resultado da operação é: \" + str(resultado))"
   ]
  }
 ],
 "metadata": {
  "kernelspec": {
   "display_name": "Python 3 (ipykernel)",
   "language": "python",
   "name": "python3"
  },
  "language_info": {
   "codemirror_mode": {
    "name": "ipython",
    "version": 3
   },
   "file_extension": ".py",
   "mimetype": "text/x-python",
   "name": "python",
   "nbconvert_exporter": "python",
   "pygments_lexer": "ipython3",
   "version": "3.12.7"
  }
 },
 "nbformat": 4,
 "nbformat_minor": 5
}
