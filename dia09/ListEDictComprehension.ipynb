{
 "cells": [
  {
   "cell_type": "markdown",
   "id": "97fbe8f0-2105-4d3d-a47d-939b769959bd",
   "metadata": {},
   "source": [
    "## List Comprehension x Dict Comprehension"
   ]
  },
  {
   "cell_type": "markdown",
   "id": "61cd923b-9b40-4963-aa91-4902071af6b0",
   "metadata": {},
   "source": [
    "### List Comprehension\n",
    "Uma maneira resumida de criar listas\n",
    "\n",
    "A sintaxe básica é: [expressão for item in lista]\n",
    "Ele retorna uma expressão para cada item dentro de uma lista, se uma condição for verdadeira"
   ]
  },
  {
   "cell_type": "code",
   "execution_count": 1,
   "id": "77d4985b-4e15-4d6b-85b2-6b765daa5c0b",
   "metadata": {},
   "outputs": [
    {
     "data": {
      "text/plain": [
       "[0, 1, 2, 3, 4, 5, 6, 7, 8, 9]"
      ]
     },
     "execution_count": 1,
     "metadata": {},
     "output_type": "execute_result"
    }
   ],
   "source": [
    "#Números até 10\n",
    "[x for x in range(10)]"
   ]
  },
  {
   "cell_type": "code",
   "execution_count": 2,
   "id": "0af0218c-8ad0-40d8-a1f6-9a2b498e3c65",
   "metadata": {},
   "outputs": [
    {
     "name": "stdout",
     "output_type": "stream",
     "text": [
      "[0, 1, 2, 3, 4, 5, 6, 7, 8, 9]\n"
     ]
    }
   ],
   "source": [
    "#Imprime os números e os grava em uma lista\n",
    "lista = [x for x in range(10)]\n",
    "print(lista)"
   ]
  },
  {
   "cell_type": "code",
   "execution_count": 3,
   "id": "51e994fb-4149-434d-b0c3-17a938305cad",
   "metadata": {},
   "outputs": [
    {
     "name": "stdout",
     "output_type": "stream",
     "text": [
      "[0, 1, 2, 3, 4]\n"
     ]
    }
   ],
   "source": [
    "#Imprimindo n < 5 dentro de um intervalo de 1 a 10\n",
    "lista = [x for x in range(10) if x < 5]\n",
    "print(lista)"
   ]
  },
  {
   "cell_type": "code",
   "execution_count": 5,
   "id": "408c97fd-cb0f-4085-b40e-881762ad74df",
   "metadata": {},
   "outputs": [
    {
     "name": "stdout",
     "output_type": "stream",
     "text": [
      "['morango', 'maçã', 'melão']\n"
     ]
    }
   ],
   "source": [
    "#Buscar palavras que começam com uma letra específica\n",
    "frutas = [\"banana\", \"morango\", \"abacate\", \"maçã\", \"melão\", \"abacaxi\", \"uva\"]\n",
    "nova_lista = []\n",
    "nova_lista = [x for x in frutas if \"m\" in x]\n",
    "print(nova_lista)"
   ]
  },
  {
   "cell_type": "markdown",
   "id": "17cd685e-4f2b-4d99-8b8b-922c94cc46c9",
   "metadata": {},
   "source": [
    "### Dict Comprehension\n",
    "\n",
    "Uma maneira resumida de criar dicionários\n",
    "A sintaxe básica é: (expressão_chave: expressão_valor for item dicionário)"
   ]
  },
  {
   "cell_type": "code",
   "execution_count": 7,
   "id": "62bf0ab4-d244-40c9-a2c4-82ee6860626b",
   "metadata": {},
   "outputs": [
    {
     "name": "stdout",
     "output_type": "stream",
     "text": [
      "{'Bob': 'Reprovado', 'Michael': 'Aprovado', 'Zico': 'Reprovado', 'Ana': 'Aprovado'}\n"
     ]
    }
   ],
   "source": [
    "#Dicionário com status de cada aluno: nota maior que 70, aprovado, senão, reprovado\n",
    "\n",
    "dict_alunos = {'Bob': 68, 'Michael': 84, 'Zico':57, 'Ana': 93}\n",
    "dict_alunos_status = {k: ('Aprovado' if v > 70 else 'Reprovado') for (k, v) in dict_alunos.items()}\n",
    "print(dict_alunos_status)"
   ]
  },
  {
   "cell_type": "code",
   "execution_count": 9,
   "id": "28ad9102-e823-41dd-9751-1c52f1e75fa4",
   "metadata": {},
   "outputs": [
    {
     "name": "stdout",
     "output_type": "stream",
     "text": [
      "{0: 0, 1: 2, 2: 4, 3: 6, 4: 8, 5: 10}\n"
     ]
    }
   ],
   "source": [
    "dicionario = {elemento: elemento*2 for elemento in range(6)}\n",
    "print(dicionario)"
   ]
  },
  {
   "cell_type": "code",
   "execution_count": null,
   "id": "c3b3ad26-c58b-422e-af71-72eedc51f268",
   "metadata": {},
   "outputs": [],
   "source": []
  }
 ],
 "metadata": {
  "kernelspec": {
   "display_name": "Python 3 (ipykernel)",
   "language": "python",
   "name": "python3"
  },
  "language_info": {
   "codemirror_mode": {
    "name": "ipython",
    "version": 3
   },
   "file_extension": ".py",
   "mimetype": "text/x-python",
   "name": "python",
   "nbconvert_exporter": "python",
   "pygments_lexer": "ipython3",
   "version": "3.12.7"
  }
 },
 "nbformat": 4,
 "nbformat_minor": 5
}
